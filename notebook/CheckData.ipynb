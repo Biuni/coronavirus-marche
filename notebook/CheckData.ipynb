{
 "cells": [
  {
   "cell_type": "markdown",
   "metadata": {},
   "source": [
    "# Controllo dei dati"
   ]
  },
  {
   "cell_type": "markdown",
   "metadata": {},
   "source": [
    "*Questo notebook serve ad effettuare un controllo aggregato su tutti i dati.*"
   ]
  },
  {
   "cell_type": "code",
   "execution_count": 1,
   "metadata": {},
   "outputs": [],
   "source": [
    "import json\n",
    "with open('../covid-19-marche.json') as file:\n",
    "    data = json.load(file)"
   ]
  },
  {
   "cell_type": "markdown",
   "metadata": {},
   "source": [
    "----\n",
    "**Controllo dei file PDF**"
   ]
  },
  {
   "cell_type": "markdown",
   "metadata": {},
   "source": [
    "*Ogni file PDF deve corrispondere al corretto colore del report e alla corretta data.*"
   ]
  },
  {
   "cell_type": "code",
   "execution_count": 2,
   "metadata": {},
   "outputs": [
    {
     "name": "stdout",
     "output_type": "stream",
     "text": [
      "04-04-2020 => blu:  True | giallo:  True | arancio:  True\n",
      "04-05-2020 => blu:  True | giallo:  True | arancio:  True\n",
      "04-06-2020 => blu:  True | giallo:  True | arancio:  True\n",
      "04-07-2020 => blu:  True | giallo:  True | arancio:  True\n",
      "04-08-2020 => blu:  True | giallo:  True | arancio:  True\n",
      "04-09-2020 => blu:  True | giallo:  True | arancio:  True\n",
      "04-10-2020 => blu:  True | giallo:  True | arancio:  True\n",
      "04-11-2020 => blu:  True | giallo:  True | arancio:  True\n",
      "04-12-2020 => blu:  True | giallo:  True | arancio:  True\n",
      "04-13-2020 => blu:  True | giallo:  True | arancio:  True\n",
      "04-14-2020 => blu:  True | giallo:  True | arancio:  True\n",
      "04-15-2020 => blu:  True | giallo:  True | arancio:  True\n",
      "04-16-2020 => blu:  True | giallo:  True | arancio:  True\n",
      "04-17-2020 => blu:  True | giallo:  True | arancio:  True\n"
     ]
    }
   ],
   "source": [
    "for value in data['report']:\n",
    "    print(value['data'], '=>', \n",
    "         'blu: ', ('True' if value['file_pdf']['locale']['blu'] == './data/PDF/GORES_Blu/'+value['data']+'.pdf' else '\\033[91m ERROR! \\033[0m'), '|',\n",
    "         'giallo: ', ('True' if value['file_pdf']['locale']['giallo'] == './data/PDF/GORES_Giallo/'+value['data']+'.pdf' else '\\033[91m ERROR! \\033[0m'), '|',\n",
    "         'arancio: ', ('True' if value['file_pdf']['locale']['arancio'] == './data/PDF/GORES_Arancio/'+value['data']+'.pdf' else '\\033[91m ERROR! \\033[0m'))"
   ]
  },
  {
   "cell_type": "markdown",
   "metadata": {},
   "source": [
    "----\n",
    "**Controllo dei tamponi**"
   ]
  },
  {
   "cell_type": "markdown",
   "metadata": {},
   "source": [
    "*ToDo*"
   ]
  },
  {
   "cell_type": "markdown",
   "metadata": {},
   "source": [
    "----\n",
    "**Controllo dei malati**"
   ]
  },
  {
   "cell_type": "markdown",
   "metadata": {},
   "source": [
    "*Il numero di **malati totali** deve corrispondere alla somma dei **malati per ogni provincia**.*"
   ]
  },
  {
   "cell_type": "code",
   "execution_count": 3,
   "metadata": {},
   "outputs": [
    {
     "name": "stdout",
     "output_type": "stream",
     "text": [
      "04-04-2020 => Malati totali: 4341 -------> True\n",
      "04-05-2020 => Malati totali: 4464 -------> True\n",
      "04-06-2020 => Malati totali: 4614 -------> True\n",
      "04-07-2020 => Malati totali: 4710 -------> True\n",
      "04-08-2020 => Malati totali: 4859 -------> True\n",
      "04-09-2020 => Malati totali: 4955 -------> True\n",
      "04-10-2020 => Malati totali: 5084 -------> True\n",
      "04-11-2020 => Malati totali: 5211 -------> True\n",
      "04-12-2020 => Malati totali: 5303 -------> True\n",
      "04-13-2020 => Malati totali: 5381 -------> True\n",
      "04-14-2020 => Malati totali: 5426 -------> True\n",
      "04-15-2020 => Malati totali: 5503 -------> True\n",
      "04-16-2020 => Malati totali: 5582 -------> True\n",
      "04-17-2020 => Malati totali: 5668 -------> True\n"
     ]
    }
   ],
   "source": [
    "for value in data['report']:\n",
    "    total = 0\n",
    "    provincie = value['malati']['totali']['provincia']\n",
    "    for key in provincie:\n",
    "        total += provincie[key]\n",
    "    print(value['data'], '=> Malati totali:', value['malati']['totali']['persone'], '------->',\n",
    "         ('True' if value['malati']['totali']['persone'] == total else '\\033[91m ERROR! \\033[0m'))        "
   ]
  },
  {
   "cell_type": "markdown",
   "metadata": {},
   "source": [
    "*La somma dei pazienti in **isolamento domicialiare** e dei **ricoverati** deve essere uguale al totale degli **attualmente positivi**.*"
   ]
  },
  {
   "cell_type": "code",
   "execution_count": 4,
   "metadata": {},
   "outputs": [
    {
     "name": "stdout",
     "output_type": "stream",
     "text": [
      "04-04-2020 => Attualmente positivi: 3497 -------> True\n",
      "04-05-2020 => Attualmente positivi: 3578 -------> True\n",
      "04-06-2020 => Attualmente positivi: 3706 -------> True\n",
      "04-07-2020 => Attualmente positivi: 3738 -------> True\n",
      "04-08-2020 => Attualmente positivi: 3562 -------> True\n",
      "04-09-2020 => Attualmente positivi: 3401 -------> True\n",
      "04-10-2020 => Attualmente positivi: 3316 -------> True\n",
      "04-11-2020 => Attualmente positivi: 3231 -------> True\n",
      "04-12-2020 => Attualmente positivi: 3114 -------> True\n",
      "04-13-2020 => Attualmente positivi: 3080 -------> True\n",
      "04-14-2020 => Attualmente positivi: 3095 -------> True\n",
      "04-15-2020 => Attualmente positivi: 3097 -------> True\n",
      "04-16-2020 => Attualmente positivi: 3124 -------> True\n",
      "04-17-2020 => Attualmente positivi: 3157 -------> True\n"
     ]
    }
   ],
   "source": [
    "for value in data['report']:\n",
    "    print(value['data'], '=> Attualmente positivi:',\n",
    "          value['malati']['attivi']['persone'], '------->',\n",
    "         ('True' if value['malati']['attivi']['persone'] == value['malati']['attivi']['isolamento_domiciliare'] + value['malati']['attivi']['ricoverati']['totali'] else '\\033[91m ERROR! \\033[0m'))"
   ]
  },
  {
   "cell_type": "markdown",
   "metadata": {},
   "source": [
    "*La somma dei ricoveri nei vari reparti di **terapia intensiva** delle varie strutture deve essere uguale al totale delle **terapie intensive**.*"
   ]
  },
  {
   "cell_type": "code",
   "execution_count": 5,
   "metadata": {},
   "outputs": [
    {
     "name": "stdout",
     "output_type": "stream",
     "text": [
      "04-04-2020 => Ricoveri terapia intesiva: 153 -------> True\n",
      "04-05-2020 => Ricoveri terapia intesiva: 151 -------> True\n",
      "04-06-2020 => Ricoveri terapia intesiva: 140 -------> True\n",
      "04-07-2020 => Ricoveri terapia intesiva: 139 -------> True\n",
      "04-08-2020 => Ricoveri terapia intesiva: 133 -------> True\n",
      "04-09-2020 => Ricoveri terapia intesiva: 133 -------> True\n",
      "04-10-2020 => Ricoveri terapia intesiva: 127 -------> True\n",
      "04-11-2020 => Ricoveri terapia intesiva: 118 -------> True\n",
      "04-12-2020 => Ricoveri terapia intesiva: 114 -------> True\n",
      "04-13-2020 => Ricoveri terapia intesiva: 108 -------> True\n",
      "04-14-2020 => Ricoveri terapia intesiva: 106 -------> True\n",
      "04-15-2020 => Ricoveri terapia intesiva: 106 -------> True\n",
      "04-16-2020 => Ricoveri terapia intesiva: 102 -------> True\n",
      "04-17-2020 => Ricoveri terapia intesiva: 94 -------> True\n"
     ]
    }
   ],
   "source": [
    "for value in data['report']:\n",
    "    total = 0\n",
    "    strutture = value['malati']['attivi']['ricoverati']['terapia_intensiva']['strutture']\n",
    "    for key in strutture:\n",
    "        total += strutture[key]\n",
    "    print(value['data'], '=> Ricoveri terapia intesiva:',\n",
    "          value['malati']['attivi']['ricoverati']['terapia_intensiva']['totali'], '------->',\n",
    "         ('True' if value['malati']['attivi']['ricoverati']['terapia_intensiva']['totali'] == total else '\\033[91m ERROR! \\033[0m'))"
   ]
  },
  {
   "cell_type": "markdown",
   "metadata": {},
   "source": [
    "*La somma dei ricoveri nei vari reparti di **terapia semi intensiva** delle varie strutture deve essere uguale al totale delle **terapie semi intensive**.*"
   ]
  },
  {
   "cell_type": "code",
   "execution_count": 6,
   "metadata": {},
   "outputs": [
    {
     "name": "stdout",
     "output_type": "stream",
     "text": [
      "04-04-2020 => Ricoveri terapia semi intesiva: 291 -------> True\n",
      "04-05-2020 => Ricoveri terapia semi intesiva: 279 -------> True\n",
      "04-06-2020 => Ricoveri terapia semi intesiva: 286 -------> True\n",
      "04-07-2020 => Ricoveri terapia semi intesiva: 277 -------> True\n",
      "04-08-2020 => Ricoveri terapia semi intesiva: 275 -------> True\n",
      "04-09-2020 => Ricoveri terapia semi intesiva: 271 -------> True\n",
      "04-10-2020 => Ricoveri terapia semi intesiva: 264 -------> True\n",
      "04-11-2020 => Ricoveri terapia semi intesiva: 255 -------> True\n",
      "04-12-2020 => Ricoveri terapia semi intesiva: 249 -------> True\n",
      "04-13-2020 => Ricoveri terapia semi intesiva: 241 -------> True\n",
      "04-14-2020 => Ricoveri terapia semi intesiva: 244 -------> True\n",
      "04-15-2020 => Ricoveri terapia semi intesiva: 234 -------> True\n",
      "04-16-2020 => Ricoveri terapia semi intesiva: 214 -------> True\n",
      "04-17-2020 => Ricoveri terapia semi intesiva: 205 -------> True\n"
     ]
    }
   ],
   "source": [
    "for value in data['report']:\n",
    "    total = 0\n",
    "    strutture = value['malati']['attivi']['ricoverati']['semi_intensiva']['strutture']\n",
    "    for key in strutture:\n",
    "        total += strutture[key]\n",
    "    print(value['data'], '=> Ricoveri terapia semi intesiva:',\n",
    "          value['malati']['attivi']['ricoverati']['semi_intensiva']['totali'], '------->',\n",
    "          ('True' if value['malati']['attivi']['ricoverati']['semi_intensiva']['totali'] == total else '\\033[91m ERROR! \\033[0m'))"
   ]
  },
  {
   "cell_type": "markdown",
   "metadata": {},
   "source": [
    "*La somma dei ricoveri nei vari reparti di **terapia post critica** delle varie strutture deve essere uguale al totale delle **terapie post critiche**.*"
   ]
  },
  {
   "cell_type": "code",
   "execution_count": 7,
   "metadata": {},
   "outputs": [
    {
     "name": "stdout",
     "output_type": "stream",
     "text": [
      "04-04-2020 => Ricoveri terapia post critica: 164 -------> True\n",
      "04-05-2020 => Ricoveri terapia post critica: 187 -------> True\n",
      "04-06-2020 => Ricoveri terapia post critica: 193 -------> True\n",
      "04-07-2020 => Ricoveri terapia post critica: 198 -------> True\n",
      "04-08-2020 => Ricoveri terapia post critica: 204 -------> True\n",
      "04-09-2020 => Ricoveri terapia post critica: 211 -------> True\n",
      "04-10-2020 => Ricoveri terapia post critica: 209 -------> True\n",
      "04-11-2020 => Ricoveri terapia post critica: 228 -------> True\n",
      "04-12-2020 => Ricoveri terapia post critica: 225 -------> True\n",
      "04-13-2020 => Ricoveri terapia post critica: 223 -------> True\n",
      "04-14-2020 => Ricoveri terapia post critica: 222 -------> True\n",
      "04-15-2020 => Ricoveri terapia post critica: 220 -------> True\n",
      "04-16-2020 => Ricoveri terapia post critica: 231 -------> True\n",
      "04-17-2020 => Ricoveri terapia post critica: 241 -------> True\n"
     ]
    }
   ],
   "source": [
    "for value in data['report']:\n",
    "    total = 0\n",
    "    strutture = value['malati']['attivi']['ricoverati']['post_critica']['strutture']\n",
    "    for key in strutture:\n",
    "        total += strutture[key]\n",
    "    print(value['data'], '=> Ricoveri terapia post critica:',\n",
    "          value['malati']['attivi']['ricoverati']['post_critica']['totali'], '------->',\n",
    "         ('True' if value['malati']['attivi']['ricoverati']['post_critica']['totali'] == total else '\\033[91m ERROR! \\033[0m'))"
   ]
  },
  {
   "cell_type": "markdown",
   "metadata": {},
   "source": [
    "*La somma dei ricoveri nei vari reparti di **terapia non intensiva** delle varie strutture deve essere uguale al totale delle **terapie non intensive**.*"
   ]
  },
  {
   "cell_type": "code",
   "execution_count": 8,
   "metadata": {},
   "outputs": [
    {
     "name": "stdout",
     "output_type": "stream",
     "text": [
      "04-04-2020 => Ricoveri terapia non intesiva: 542 -------> True\n",
      "04-05-2020 => Ricoveri terapia non intesiva: 521 -------> True\n",
      "04-06-2020 => Ricoveri terapia non intesiva: 522 -------> True\n",
      "04-07-2020 => Ricoveri terapia non intesiva: 487 -------> True\n",
      "04-08-2020 => Ricoveri terapia non intesiva: 495 -------> True\n",
      "04-09-2020 => Ricoveri terapia non intesiva: 463 -------> True\n",
      "04-10-2020 => Ricoveri terapia non intesiva: 452 -------> True\n",
      "04-11-2020 => Ricoveri terapia non intesiva: 477 -------> True\n",
      "04-12-2020 => Ricoveri terapia non intesiva: 475 -------> True\n",
      "04-13-2020 => Ricoveri terapia non intesiva: 495 -------> True\n",
      "04-14-2020 => Ricoveri terapia non intesiva: 471 -------> True\n",
      "04-15-2020 => Ricoveri terapia non intesiva: 434 -------> True\n",
      "04-16-2020 => Ricoveri terapia non intesiva: 405 -------> True\n",
      "04-17-2020 => Ricoveri terapia non intesiva: 393 -------> True\n"
     ]
    }
   ],
   "source": [
    "for value in data['report']:\n",
    "    total = 0\n",
    "    strutture = value['malati']['attivi']['ricoverati']['non_intensiva']['strutture']\n",
    "    for key in strutture:\n",
    "        total += strutture[key]\n",
    "    print(value['data'], '=> Ricoveri terapia non intesiva:',\n",
    "          value['malati']['attivi']['ricoverati']['non_intensiva']['totali'], '------->',\n",
    "         ('True' if value['malati']['attivi']['ricoverati']['non_intensiva']['totali'] == total else '\\033[91m ERROR! \\033[0m'))"
   ]
  },
  {
   "cell_type": "markdown",
   "metadata": {},
   "source": [
    "*La somma delle **persone sintomatiche ed asintomatiche** in quarantena domiciliare deve essere uguale al totale degli attualmente in **quarantena domiciliare**.*"
   ]
  },
  {
   "cell_type": "code",
   "execution_count": 9,
   "metadata": {},
   "outputs": [
    {
     "name": "stdout",
     "output_type": "stream",
     "text": [
      "04-04-2020 => Attualmente in quarantena domiciliare: 7335 -------> True\n",
      "04-05-2020 => Attualmente in quarantena domiciliare: 7054 -------> True\n",
      "04-06-2020 => Attualmente in quarantena domiciliare: 7148 -------> True\n",
      "04-07-2020 => Attualmente in quarantena domiciliare: 7335 -------> True\n",
      "04-08-2020 => Attualmente in quarantena domiciliare: 7906 -------> True\n",
      "04-09-2020 => Attualmente in quarantena domiciliare: 7984 -------> True\n",
      "04-10-2020 => Attualmente in quarantena domiciliare: 8144 -------> True\n",
      "04-11-2020 => Attualmente in quarantena domiciliare: 8046 -------> True\n",
      "04-12-2020 => Attualmente in quarantena domiciliare: 8164 -------> True\n",
      "04-13-2020 => Attualmente in quarantena domiciliare: 7997 -------> True\n",
      "04-14-2020 => Attualmente in quarantena domiciliare: 7753 -------> True\n",
      "04-15-2020 => Attualmente in quarantena domiciliare: 7887 -------> True\n",
      "04-16-2020 => Attualmente in quarantena domiciliare: 7650 -------> True\n",
      "04-17-2020 => Attualmente in quarantena domiciliare: 7882 -------> True\n"
     ]
    }
   ],
   "source": [
    "for value in data['report']:\n",
    "    print(value['data'], '=> Attualmente in quarantena domiciliare:',\n",
    "          value['malati']['quarantena_domiciliare']['attivi']['totali'], '------->',\n",
    "          ('True' if value['malati']['quarantena_domiciliare']['attivi']['totali'] == value['malati']['quarantena_domiciliare']['attivi']['sintomatici'] + value['malati']['quarantena_domiciliare']['attivi']['asintomatici'] else '\\033[91m ERROR! \\033[0m'))"
   ]
  },
  {
   "cell_type": "markdown",
   "metadata": {},
   "source": [
    "*La somma delle **persone sintomatiche ed asintomatiche** in quarantena domiciliare deve essere uguale al totale degli attualmente in **quarantena domiciliare**, per ogni **provincia**.*"
   ]
  },
  {
   "cell_type": "code",
   "execution_count": 10,
   "metadata": {},
   "outputs": [
    {
     "name": "stdout",
     "output_type": "stream",
     "text": [
      "04-04-2020 => Quarantena domiciliare pesaro_urbino : 3093 -------> True\n",
      "04-04-2020 => Quarantena domiciliare ancona : 2003 -------> True\n",
      "04-04-2020 => Quarantena domiciliare macerata : 1097 -------> True\n",
      "04-04-2020 => Quarantena domiciliare fermo : 786 -------> True\n",
      "04-04-2020 => Quarantena domiciliare ascoli_piceno : 356 -------> True\n",
      "===============================\n",
      "04-05-2020 => Quarantena domiciliare pesaro_urbino : 3058 -------> True\n",
      "04-05-2020 => Quarantena domiciliare ancona : 1958 -------> True\n",
      "04-05-2020 => Quarantena domiciliare macerata : 1026 -------> True\n",
      "04-05-2020 => Quarantena domiciliare fermo : 724 -------> True\n",
      "04-05-2020 => Quarantena domiciliare ascoli_piceno : 288 -------> True\n",
      "===============================\n",
      "04-06-2020 => Quarantena domiciliare pesaro_urbino : 3117 -------> True\n",
      "04-06-2020 => Quarantena domiciliare ancona : 1974 -------> True\n",
      "04-06-2020 => Quarantena domiciliare macerata : 1022 -------> True\n",
      "04-06-2020 => Quarantena domiciliare fermo : 705 -------> True\n",
      "04-06-2020 => Quarantena domiciliare ascoli_piceno : 330 -------> True\n",
      "===============================\n",
      "04-07-2020 => Quarantena domiciliare pesaro_urbino : 3337 -------> True\n",
      "04-07-2020 => Quarantena domiciliare ancona : 1962 -------> True\n",
      "04-07-2020 => Quarantena domiciliare macerata : 988 -------> True\n",
      "04-07-2020 => Quarantena domiciliare fermo : 716 -------> True\n",
      "04-07-2020 => Quarantena domiciliare ascoli_piceno : 332 -------> True\n",
      "===============================\n",
      "04-08-2020 => Quarantena domiciliare pesaro_urbino : 3654 -------> True\n",
      "04-08-2020 => Quarantena domiciliare ancona : 2122 -------> True\n",
      "04-08-2020 => Quarantena domiciliare macerata : 1015 -------> True\n",
      "04-08-2020 => Quarantena domiciliare fermo : 727 -------> True\n",
      "04-08-2020 => Quarantena domiciliare ascoli_piceno : 388 -------> True\n",
      "===============================\n",
      "04-09-2020 => Quarantena domiciliare pesaro_urbino : 3799 -------> True\n",
      "04-09-2020 => Quarantena domiciliare ancona : 2126 -------> True\n",
      "04-09-2020 => Quarantena domiciliare macerata : 1012 -------> True\n",
      "04-09-2020 => Quarantena domiciliare fermo : 673 -------> True\n",
      "04-09-2020 => Quarantena domiciliare ascoli_piceno : 374 -------> True\n",
      "===============================\n",
      "04-10-2020 => Quarantena domiciliare pesaro_urbino : 3934 -------> True\n",
      "04-10-2020 => Quarantena domiciliare ancona : 2136 -------> True\n",
      "04-10-2020 => Quarantena domiciliare macerata : 1047 -------> True\n",
      "04-10-2020 => Quarantena domiciliare fermo : 651 -------> True\n",
      "04-10-2020 => Quarantena domiciliare ascoli_piceno : 376 -------> True\n",
      "===============================\n",
      "04-11-2020 => Quarantena domiciliare pesaro_urbino : 3975 -------> True\n",
      "04-11-2020 => Quarantena domiciliare ancona : 2048 -------> True\n",
      "04-11-2020 => Quarantena domiciliare macerata : 1020 -------> True\n",
      "04-11-2020 => Quarantena domiciliare fermo : 633 -------> True\n",
      "04-11-2020 => Quarantena domiciliare ascoli_piceno : 370 -------> True\n",
      "===============================\n",
      "04-12-2020 => Quarantena domiciliare pesaro_urbino : 3990 -------> True\n",
      "04-12-2020 => Quarantena domiciliare ancona : 2127 -------> True\n",
      "04-12-2020 => Quarantena domiciliare macerata : 1029 -------> True\n",
      "04-12-2020 => Quarantena domiciliare fermo : 656 -------> True\n",
      "04-12-2020 => Quarantena domiciliare ascoli_piceno : 362 -------> True\n",
      "===============================\n",
      "04-13-2020 => Quarantena domiciliare pesaro_urbino : 3919 -------> True\n",
      "04-13-2020 => Quarantena domiciliare ancona : 2081 -------> True\n",
      "04-13-2020 => Quarantena domiciliare macerata : 992 -------> True\n",
      "04-13-2020 => Quarantena domiciliare fermo : 650 -------> True\n",
      "04-13-2020 => Quarantena domiciliare ascoli_piceno : 355 -------> True\n",
      "===============================\n",
      "04-14-2020 => Quarantena domiciliare pesaro_urbino : 3813 -------> True\n",
      "04-14-2020 => Quarantena domiciliare ancona : 2024 -------> True\n",
      "04-14-2020 => Quarantena domiciliare macerata : 962 -------> True\n",
      "04-14-2020 => Quarantena domiciliare fermo : 626 -------> True\n",
      "04-14-2020 => Quarantena domiciliare ascoli_piceno : 328 -------> True\n",
      "===============================\n",
      "04-15-2020 => Quarantena domiciliare pesaro_urbino : 3888 -------> True\n",
      "04-15-2020 => Quarantena domiciliare ancona : 2057 -------> True\n",
      "04-15-2020 => Quarantena domiciliare macerata : 990 -------> True\n",
      "04-15-2020 => Quarantena domiciliare fermo : 612 -------> True\n",
      "04-15-2020 => Quarantena domiciliare ascoli_piceno : 340 -------> True\n",
      "===============================\n",
      "04-16-2020 => Quarantena domiciliare pesaro_urbino : 3761 -------> True\n",
      "04-16-2020 => Quarantena domiciliare ancona : 2049 -------> True\n",
      "04-16-2020 => Quarantena domiciliare macerata : 945 -------> True\n",
      "04-16-2020 => Quarantena domiciliare fermo : 554 -------> True\n",
      "04-16-2020 => Quarantena domiciliare ascoli_piceno : 341 -------> True\n",
      "===============================\n",
      "04-17-2020 => Quarantena domiciliare pesaro_urbino : 3894 -------> True\n",
      "04-17-2020 => Quarantena domiciliare ancona : 2068 -------> True\n",
      "04-17-2020 => Quarantena domiciliare macerata : 990 -------> True\n",
      "04-17-2020 => Quarantena domiciliare fermo : 580 -------> True\n",
      "04-17-2020 => Quarantena domiciliare ascoli_piceno : 350 -------> True\n",
      "===============================\n"
     ]
    }
   ],
   "source": [
    "for value in data['report']:\n",
    "    total = 0\n",
    "    quarantena = value['malati']['quarantena_domiciliare']['provincia']\n",
    "    for key in quarantena:\n",
    "        total = quarantena[key]['attivi']['sintomatici'] + quarantena[key]['attivi']['asintomatici']\n",
    "        print(value['data'], '=> Quarantena domiciliare', key, ':',\n",
    "              value['malati']['quarantena_domiciliare']['provincia'][key]['attivi']['totali'], '------->',\n",
    "             ('True' if value['malati']['quarantena_domiciliare']['provincia'][key]['attivi']['totali'] == total else '\\033[91m ERROR! \\033[0m'))\n",
    "    print('===============================')"
   ]
  },
  {
   "cell_type": "markdown",
   "metadata": {},
   "source": [
    "---\n",
    "**Controllo dei morti**"
   ]
  },
  {
   "cell_type": "markdown",
   "metadata": {},
   "source": [
    "*ToDo*"
   ]
  }
 ],
 "metadata": {
  "kernelspec": {
   "display_name": "Python 3",
   "language": "python",
   "name": "python3"
  },
  "language_info": {
   "codemirror_mode": {
    "name": "ipython",
    "version": 3
   },
   "file_extension": ".py",
   "mimetype": "text/x-python",
   "name": "python",
   "nbconvert_exporter": "python",
   "pygments_lexer": "ipython3",
   "version": "3.8.1"
  }
 },
 "nbformat": 4,
 "nbformat_minor": 4
}
